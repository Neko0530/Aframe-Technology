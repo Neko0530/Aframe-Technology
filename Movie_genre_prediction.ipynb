{
 "cells": [
  {
   "cell_type": "code",
   "execution_count": 4,
   "id": "9fe5af94",
   "metadata": {},
   "outputs": [],
   "source": [
    "import pandas as pd\n",
    "import numpy as np\n",
    "from sklearn.model_selection import train_test_split\n",
    "from sklearn.feature_extraction.text import TfidfVectorizer\n",
    "from sklearn.naive_bayes import MultinomialNB\n",
    "from sklearn.linear_model import LogisticRegression\n",
    "from sklearn.svm import SVC\n",
    "from sklearn.metrics import accuracy_score, classification_report"
   ]
  },
  {
   "cell_type": "code",
   "execution_count": 5,
   "id": "5a754403",
   "metadata": {},
   "outputs": [],
   "source": [
    "data1 = pd.read_csv('description.txt', delimiter='\\t')  # if tab-separated\n",
    "data2 = pd.read_csv('train_data.txt', delimiter='\\t')\n",
    "data3 = pd.read_csv('test_data.txt', delimiter='\\t')\n",
    "data4 = pd.read_csv('test_data_solution.txt', delimiter='\\t')\n",
    "\n",
    "\n"
   ]
  },
  {
   "cell_type": "code",
   "execution_count": 6,
   "id": "1d7e8c4e",
   "metadata": {},
   "outputs": [
    {
     "name": "stdout",
     "output_type": "stream",
     "text": [
      "                              Train data:\n",
      "0  ID ::: TITLE ::: GENRE ::: DESCRIPTION\n",
      "1  ID ::: TITLE ::: GENRE ::: DESCRIPTION\n",
      "2  ID ::: TITLE ::: GENRE ::: DESCRIPTION\n",
      "3  ID ::: TITLE ::: GENRE ::: DESCRIPTION\n",
      "4                              Test data:\n",
      "  1 ::: Oscar et la dame rose (2009) ::: drama ::: Listening in to a conversation between his doctor and parents, 10-year-old Oscar learns what nobody has the courage to tell him. He only has a few weeks to live. Furious, he refuses to speak to anyone except straight-talking Rose, the lady in pink he meets on the hospital stairs. As Christmas approaches, Rose uses her fantastical experiences as a professional wrestler, her imagination, wit and charm to allow Oscar to live life and love to the full, in the company of his friends Pop Corn, Einstein, Bacon and childhood sweetheart Peggy Blue.\n",
      "0  2 ::: Cupid (1997) ::: thriller ::: A brother ...                                                                                                                                                                                                                                                                                                                                                                                                                                                                                                                                                                \n",
      "1  3 ::: Young, Wild and Wonderful (1980) ::: adu...                                                                                                                                                                                                                                                                                                                                                                                                                                                                                                                                                                \n",
      "2  4 ::: The Secret Sin (1915) ::: drama ::: To h...                                                                                                                                                                                                                                                                                                                                                                                                                                                                                                                                                                \n",
      "3  5 ::: The Unrecovered (2007) ::: drama ::: The...                                                                                                                                                                                                                                                                                                                                                                                                                                                                                                                                                                \n",
      "4  6 ::: Quality Control (2011) ::: documentary :...                                                                                                                                                                                                                                                                                                                                                                                                                                                                                                                                                                \n",
      "  1 ::: Edgar's Lunch (1998) ::: L.R. Brane loves his life - his car, his apartment, his job, but especially his girlfriend, Vespa. One day while showering, Vespa runs out of shampoo. L.R. runs across the street to a convenience store to buy some more, a quick trip of no more than a few minutes. When he returns, Vespa is gone and every trace of her existence has been wiped out. L.R.'s life becomes a tortured existence as one strange event after another occurs to confirm in his mind that a conspiracy is working against his finding Vespa.\n",
      "0  2 ::: La guerra de papá (1977) ::: Spain, Marc...                                                                                                                                                                                                                                                                                                                                                                                                                                                                                                          \n",
      "1  3 ::: Off the Beaten Track (2010) ::: One year...                                                                                                                                                                                                                                                                                                                                                                                                                                                                                                          \n",
      "2  4 ::: Meu Amigo Hindu (2015) ::: His father ha...                                                                                                                                                                                                                                                                                                                                                                                                                                                                                                          \n",
      "3  5 ::: Er nu zhai (1955) ::: Before he was know...                                                                                                                                                                                                                                                                                                                                                                                                                                                                                                          \n",
      "4  6 ::: Riddle Room (2016) ::: Emily Burns is be...                                                                                                                                                                                                                                                                                                                                                                                                                                                                                                          \n",
      "  1 ::: Edgar's Lunch (1998) ::: thriller ::: L.R. Brane loves his life - his car, his apartment, his job, but especially his girlfriend, Vespa. One day while showering, Vespa runs out of shampoo. L.R. runs across the street to a convenience store to buy some more, a quick trip of no more than a few minutes. When he returns, Vespa is gone and every trace of her existence has been wiped out. L.R.'s life becomes a tortured existence as one strange event after another occurs to confirm in his mind that a conspiracy is working against his finding Vespa.\n",
      "0  2 ::: La guerra de papá (1977) ::: comedy ::: ...                                                                                                                                                                                                                                                                                                                                                                                                                                                                                                                       \n",
      "1  3 ::: Off the Beaten Track (2010) ::: document...                                                                                                                                                                                                                                                                                                                                                                                                                                                                                                                       \n",
      "2  4 ::: Meu Amigo Hindu (2015) ::: drama ::: His...                                                                                                                                                                                                                                                                                                                                                                                                                                                                                                                       \n",
      "3  5 ::: Er nu zhai (1955) ::: drama ::: Before h...                                                                                                                                                                                                                                                                                                                                                                                                                                                                                                                       \n",
      "4  6 ::: Riddle Room (2016) ::: horror ::: Emily ...                                                                                                                                                                                                                                                                                                                                                                                                                                                                                                                       \n"
     ]
    }
   ],
   "source": [
    "print(data1.head())\n",
    "print(data2.head())\n",
    "print(data3.head())\n",
    "print(data4.head())"
   ]
  },
  {
   "cell_type": "code",
   "execution_count": null,
   "id": "c2155347",
   "metadata": {},
   "outputs": [],
   "source": []
  },
  {
   "cell_type": "code",
   "execution_count": 7,
   "id": "9abd48de",
   "metadata": {},
   "outputs": [
    {
     "name": "stdout",
     "output_type": "stream",
     "text": [
      "   ID  TITLE        GENRE  DESCRIPTION\n",
      "0  ID  TITLE        GENRE  DESCRIPTION\n",
      "1  ID  TITLE        GENRE  DESCRIPTION\n",
      "2  ID  TITLE        GENRE  DESCRIPTION\n",
      "3  ID  TITLE        GENRE  DESCRIPTION\n",
      "5  ID  TITLE  DESCRIPTION         None\n"
     ]
    }
   ],
   "source": [
    "data1_cleaned = data1['Train data:'].str.split(' ::: ', expand=True)\n",
    "# Rename the columns\n",
    "data1_cleaned.columns = ['ID', 'TITLE', 'GENRE', 'DESCRIPTION']\n",
    "# Drop the rows with missing genre (test data has no genre)\n",
    "data1_cleaned = data1_cleaned.dropna(subset=['GENRE'])\n",
    "# Preview cleaned data\n",
    "print(data1_cleaned.head())"
   ]
  },
  {
   "cell_type": "code",
   "execution_count": 8,
   "id": "351b07e1",
   "metadata": {},
   "outputs": [],
   "source": [
    "data2_cleaned = data2.iloc[:, 0].str.split(' ::: ', expand=True)\n",
    "data2_cleaned.columns = ['ID', 'TITLE', 'GENRE', 'DESCRIPTION']"
   ]
  },
  {
   "cell_type": "code",
   "execution_count": 9,
   "id": "942fefc0",
   "metadata": {},
   "outputs": [
    {
     "name": "stdout",
     "output_type": "stream",
     "text": [
      "  ID                        TITLE  \\\n",
      "0  2     La guerra de papá (1977)   \n",
      "1  3  Off the Beaten Track (2010)   \n",
      "2  4       Meu Amigo Hindu (2015)   \n",
      "3  5            Er nu zhai (1955)   \n",
      "4  6           Riddle Room (2016)   \n",
      "\n",
      "                                         DESCRIPTION  \n",
      "0  Spain, March 1964: Quico is a very naughty chi...  \n",
      "1  One year in the life of Albin and his family o...  \n",
      "2  His father has died, he hasn't spoken with his...  \n",
      "3  Before he was known internationally as a marti...  \n",
      "4  Emily Burns is being held captive in a room wi...  \n"
     ]
    }
   ],
   "source": [
    "data3_cleaned = data3.iloc[:, 0].str.split(' ::: ', expand=True)\n",
    "\n",
    "# Assign column names as needed\n",
    "data3_cleaned.columns = ['ID', 'TITLE', 'DESCRIPTION']  # Test data has no GENRE\n",
    "\n",
    "# Display the cleaned DataFrame\n",
    "print(data3_cleaned.head())"
   ]
  },
  {
   "cell_type": "code",
   "execution_count": 10,
   "id": "74021603",
   "metadata": {},
   "outputs": [
    {
     "name": "stdout",
     "output_type": "stream",
     "text": [
      "  ID                        TITLE        GENRE  \\\n",
      "0  2     La guerra de papá (1977)       comedy   \n",
      "1  3  Off the Beaten Track (2010)  documentary   \n",
      "2  4       Meu Amigo Hindu (2015)        drama   \n",
      "3  5            Er nu zhai (1955)        drama   \n",
      "4  6           Riddle Room (2016)       horror   \n",
      "\n",
      "                                         DESCRIPTION  \n",
      "0  Spain, March 1964: Quico is a very naughty chi...  \n",
      "1  One year in the life of Albin and his family o...  \n",
      "2  His father has died, he hasn't spoken with his...  \n",
      "3  Before he was known internationally as a marti...  \n",
      "4  Emily Burns is being held captive in a room wi...  \n"
     ]
    }
   ],
   "source": [
    "data4_cleaned = data4.iloc[:, 0].str.split(' ::: ', expand=True)\n",
    "\n",
    "# Assign column names as needed\n",
    "data4_cleaned.columns = ['ID', 'TITLE', 'GENRE', 'DESCRIPTION']  # Include the genre for this dataset\n",
    "\n",
    "# Display the cleaned DataFrame\n",
    "print(data4_cleaned.head())"
   ]
  },
  {
   "cell_type": "code",
   "execution_count": 11,
   "id": "bea54d66",
   "metadata": {},
   "outputs": [],
   "source": [
    "data_train = pd.concat([data1_cleaned, data2_cleaned], ignore_index=True)\n",
    "data_test = pd.merge(data3_cleaned, data4_cleaned, on=['ID', 'TITLE'], how='left')"
   ]
  },
  {
   "cell_type": "code",
   "execution_count": 12,
   "id": "2e656515",
   "metadata": {},
   "outputs": [
    {
     "name": "stdout",
     "output_type": "stream",
     "text": [
      "   ID  TITLE        GENRE  DESCRIPTION\n",
      "0  ID  TITLE        GENRE  DESCRIPTION\n",
      "1  ID  TITLE        GENRE  DESCRIPTION\n",
      "2  ID  TITLE        GENRE  DESCRIPTION\n",
      "3  ID  TITLE        GENRE  DESCRIPTION\n",
      "4  ID  TITLE  DESCRIPTION         None\n",
      "  ID                        TITLE  \\\n",
      "0  2     La guerra de papá (1977)   \n",
      "1  3  Off the Beaten Track (2010)   \n",
      "2  4       Meu Amigo Hindu (2015)   \n",
      "3  5            Er nu zhai (1955)   \n",
      "4  6           Riddle Room (2016)   \n",
      "\n",
      "                                       DESCRIPTION_x        GENRE  \\\n",
      "0  Spain, March 1964: Quico is a very naughty chi...       comedy   \n",
      "1  One year in the life of Albin and his family o...  documentary   \n",
      "2  His father has died, he hasn't spoken with his...        drama   \n",
      "3  Before he was known internationally as a marti...        drama   \n",
      "4  Emily Burns is being held captive in a room wi...       horror   \n",
      "\n",
      "                                       DESCRIPTION_y  \n",
      "0  Spain, March 1964: Quico is a very naughty chi...  \n",
      "1  One year in the life of Albin and his family o...  \n",
      "2  His father has died, he hasn't spoken with his...  \n",
      "3  Before he was known internationally as a marti...  \n",
      "4  Emily Burns is being held captive in a room wi...  \n"
     ]
    }
   ],
   "source": [
    "print(data_train.head())\n",
    "print(data_test.head())"
   ]
  },
  {
   "cell_type": "code",
   "execution_count": 13,
   "id": "1103a172",
   "metadata": {},
   "outputs": [
    {
     "name": "stdout",
     "output_type": "stream",
     "text": [
      "Index(['ID', 'TITLE', 'GENRE', 'DESCRIPTION'], dtype='object')\n",
      "Index(['ID', 'TITLE', 'DESCRIPTION_x', 'GENRE', 'DESCRIPTION_y'], dtype='object')\n"
     ]
    }
   ],
   "source": [
    "print(data_train.columns)\n",
    "print(data_test.columns)"
   ]
  },
  {
   "cell_type": "code",
   "execution_count": 14,
   "id": "171ac4d7",
   "metadata": {},
   "outputs": [],
   "source": [
    "data_test.rename(columns={'Description': 'DESCRIPTION'}, inplace=True)\n"
   ]
  },
  {
   "cell_type": "code",
   "execution_count": 15,
   "id": "c9e8089d",
   "metadata": {},
   "outputs": [
    {
     "name": "stdout",
     "output_type": "stream",
     "text": [
      "                                       DESCRIPTION_x  \\\n",
      "0  Spain, March 1964: Quico is a very naughty chi...   \n",
      "1  One year in the life of Albin and his family o...   \n",
      "2  His father has died, he hasn't spoken with his...   \n",
      "3  Before he was known internationally as a marti...   \n",
      "4  Emily Burns is being held captive in a room wi...   \n",
      "\n",
      "                                       DESCRIPTION_y  \n",
      "0  Spain, March 1964: Quico is a very naughty chi...  \n",
      "1  One year in the life of Albin and his family o...  \n",
      "2  His father has died, he hasn't spoken with his...  \n",
      "3  Before he was known internationally as a marti...  \n",
      "4  Emily Burns is being held captive in a room wi...  \n"
     ]
    }
   ],
   "source": [
    "print(data_test[['DESCRIPTION_x', 'DESCRIPTION_y']].head())"
   ]
  },
  {
   "cell_type": "code",
   "execution_count": 16,
   "id": "ba471e6b",
   "metadata": {},
   "outputs": [],
   "source": [
    "X_train = data_train['DESCRIPTION']\n",
    "y_train = data_train['GENRE']\n",
    "\n",
    "X_test = data_test['DESCRIPTION_x']  # Use the correct column\n",
    "y_test = data_test['GENRE']\n",
    "\n"
   ]
  },
  {
   "cell_type": "code",
   "execution_count": null,
   "id": "5bde061a",
   "metadata": {},
   "outputs": [],
   "source": []
  },
  {
   "cell_type": "code",
   "execution_count": 17,
   "id": "f24d9a92",
   "metadata": {},
   "outputs": [
    {
     "name": "stdout",
     "output_type": "stream",
     "text": [
      "4\n",
      "0\n"
     ]
    }
   ],
   "source": [
    "print(X_train.isnull().sum())\n",
    "print(X_test.isnull().sum())"
   ]
  },
  {
   "cell_type": "code",
   "execution_count": 18,
   "id": "c66c40b6",
   "metadata": {},
   "outputs": [],
   "source": [
    "X_train.fillna('', inplace=True)\n",
    "X_test.fillna('', inplace=True)"
   ]
  },
  {
   "cell_type": "code",
   "execution_count": 19,
   "id": "411e4e39",
   "metadata": {},
   "outputs": [],
   "source": [
    "X_train.dropna(inplace=True)\n",
    "X_test.dropna(inplace=True)"
   ]
  },
  {
   "cell_type": "code",
   "execution_count": 20,
   "id": "48b8034a",
   "metadata": {},
   "outputs": [],
   "source": [
    "tfidf = TfidfVectorizer(max_features=5000, stop_words='english')\n",
    "\n",
    "X_train_tfidf = tfidf.fit_transform(X_train)\n",
    "X_test_tfidf = tfidf.transform(X_test)"
   ]
  },
  {
   "cell_type": "code",
   "execution_count": 21,
   "id": "827596ad",
   "metadata": {},
   "outputs": [
    {
     "name": "stdout",
     "output_type": "stream",
     "text": [
      "Naive Bayes Accuracy: 0.5239026550305356\n"
     ]
    },
    {
     "name": "stderr",
     "output_type": "stream",
     "text": [
      "C:\\Users\\anup\\anaconda3\\lib\\site-packages\\sklearn\\metrics\\_classification.py:1245: UndefinedMetricWarning: Precision and F-score are ill-defined and being set to 0.0 in labels with no predicted samples. Use `zero_division` parameter to control this behavior.\n",
      "  _warn_prf(average, modifier, msg_start, len(result))\n",
      "C:\\Users\\anup\\anaconda3\\lib\\site-packages\\sklearn\\metrics\\_classification.py:1245: UndefinedMetricWarning: Precision and F-score are ill-defined and being set to 0.0 in labels with no predicted samples. Use `zero_division` parameter to control this behavior.\n",
      "  _warn_prf(average, modifier, msg_start, len(result))\n"
     ]
    },
    {
     "name": "stdout",
     "output_type": "stream",
     "text": [
      "Naive Bayes Classification Report:\n",
      "               precision    recall  f1-score   support\n",
      "\n",
      "      action       0.55      0.11      0.18      1314\n",
      "       adult       0.51      0.06      0.11       590\n",
      "   adventure       0.81      0.07      0.13       775\n",
      "   animation       0.00      0.00      0.00       498\n",
      "   biography       0.00      0.00      0.00       264\n",
      "      comedy       0.51      0.42      0.46      7446\n",
      "       crime       0.00      0.00      0.00       505\n",
      " documentary       0.57      0.87      0.69     13096\n",
      "       drama       0.46      0.82      0.59     13612\n",
      "      family       0.50      0.00      0.00       783\n",
      "     fantasy       0.00      0.00      0.00       322\n",
      "   game-show       0.98      0.32      0.48       193\n",
      "     history       0.00      0.00      0.00       243\n",
      "      horror       0.69      0.36      0.47      2204\n",
      "       music       0.74      0.15      0.25       731\n",
      "     musical       0.00      0.00      0.00       276\n",
      "     mystery       0.00      0.00      0.00       318\n",
      "        news       0.00      0.00      0.00       181\n",
      "  reality-tv       0.55      0.02      0.05       883\n",
      "     romance       0.00      0.00      0.00       672\n",
      "      sci-fi       0.64      0.06      0.11       646\n",
      "       short       0.58      0.12      0.20      5072\n",
      "       sport       0.81      0.10      0.18       431\n",
      "   talk-show       0.00      0.00      0.00       391\n",
      "    thriller       0.28      0.02      0.03      1589\n",
      "         war       0.00      0.00      0.00       132\n",
      "     western       0.94      0.62      0.75      1032\n",
      "\n",
      "    accuracy                           0.52     54199\n",
      "   macro avg       0.38      0.15      0.17     54199\n",
      "weighted avg       0.51      0.52      0.45     54199\n",
      "\n"
     ]
    },
    {
     "name": "stderr",
     "output_type": "stream",
     "text": [
      "C:\\Users\\anup\\anaconda3\\lib\\site-packages\\sklearn\\metrics\\_classification.py:1245: UndefinedMetricWarning: Precision and F-score are ill-defined and being set to 0.0 in labels with no predicted samples. Use `zero_division` parameter to control this behavior.\n",
      "  _warn_prf(average, modifier, msg_start, len(result))\n"
     ]
    }
   ],
   "source": [
    "nb_model = MultinomialNB()\n",
    "nb_model.fit(X_train_tfidf, y_train)\n",
    "\n",
    "# Predict and evaluate\n",
    "y_pred_nb = nb_model.predict(X_test_tfidf)\n",
    "print(\"Naive Bayes Accuracy:\", accuracy_score(y_test, y_pred_nb))\n",
    "print(\"Naive Bayes Classification Report:\\n\", classification_report(y_test, y_pred_nb))"
   ]
  },
  {
   "cell_type": "code",
   "execution_count": 22,
   "id": "18eb4761",
   "metadata": {},
   "outputs": [
    {
     "name": "stderr",
     "output_type": "stream",
     "text": [
      "C:\\Users\\anup\\anaconda3\\lib\\site-packages\\sklearn\\linear_model\\_logistic.py:763: ConvergenceWarning: lbfgs failed to converge (status=1):\n",
      "STOP: TOTAL NO. of ITERATIONS REACHED LIMIT.\n",
      "\n",
      "Increase the number of iterations (max_iter) or scale the data as shown in:\n",
      "    https://scikit-learn.org/stable/modules/preprocessing.html\n",
      "Please also refer to the documentation for alternative solver options:\n",
      "    https://scikit-learn.org/stable/modules/linear_model.html#logistic-regression\n",
      "  n_iter_i = _check_optimize_result(\n"
     ]
    },
    {
     "name": "stdout",
     "output_type": "stream",
     "text": [
      "Logistic Regression Accuracy: 0.5837561578626912\n"
     ]
    },
    {
     "name": "stderr",
     "output_type": "stream",
     "text": [
      "C:\\Users\\anup\\anaconda3\\lib\\site-packages\\sklearn\\metrics\\_classification.py:1245: UndefinedMetricWarning: Precision and F-score are ill-defined and being set to 0.0 in labels with no predicted samples. Use `zero_division` parameter to control this behavior.\n",
      "  _warn_prf(average, modifier, msg_start, len(result))\n",
      "C:\\Users\\anup\\anaconda3\\lib\\site-packages\\sklearn\\metrics\\_classification.py:1245: UndefinedMetricWarning: Precision and F-score are ill-defined and being set to 0.0 in labels with no predicted samples. Use `zero_division` parameter to control this behavior.\n",
      "  _warn_prf(average, modifier, msg_start, len(result))\n"
     ]
    },
    {
     "name": "stdout",
     "output_type": "stream",
     "text": [
      "Logistic Regression Classification Report:\n",
      "               precision    recall  f1-score   support\n",
      "\n",
      "      action       0.48      0.29      0.37      1314\n",
      "       adult       0.60      0.24      0.34       590\n",
      "   adventure       0.59      0.17      0.26       775\n",
      "   animation       0.52      0.06      0.11       498\n",
      "   biography       0.00      0.00      0.00       264\n",
      "      comedy       0.53      0.58      0.55      7446\n",
      "       crime       0.36      0.04      0.07       505\n",
      " documentary       0.67      0.85      0.75     13096\n",
      "       drama       0.54      0.77      0.64     13612\n",
      "      family       0.50      0.09      0.16       783\n",
      "     fantasy       0.55      0.05      0.09       322\n",
      "   game-show       0.88      0.51      0.65       193\n",
      "     history       0.00      0.00      0.00       243\n",
      "      horror       0.64      0.57      0.61      2204\n",
      "       music       0.67      0.45      0.54       731\n",
      "     musical       0.32      0.02      0.04       276\n",
      "     mystery       0.31      0.01      0.02       318\n",
      "        news       0.69      0.06      0.11       181\n",
      "  reality-tv       0.51      0.18      0.27       883\n",
      "     romance       0.40      0.03      0.05       672\n",
      "      sci-fi       0.55      0.25      0.35       646\n",
      "       short       0.47      0.34      0.39      5072\n",
      "       sport       0.67      0.26      0.38       431\n",
      "   talk-show       0.59      0.16      0.25       391\n",
      "    thriller       0.38      0.14      0.20      1589\n",
      "         war       1.00      0.02      0.04       132\n",
      "     western       0.91      0.73      0.81      1032\n",
      "\n",
      "    accuracy                           0.58     54199\n",
      "   macro avg       0.53      0.25      0.30     54199\n",
      "weighted avg       0.56      0.58      0.54     54199\n",
      "\n"
     ]
    },
    {
     "name": "stderr",
     "output_type": "stream",
     "text": [
      "C:\\Users\\anup\\anaconda3\\lib\\site-packages\\sklearn\\metrics\\_classification.py:1245: UndefinedMetricWarning: Precision and F-score are ill-defined and being set to 0.0 in labels with no predicted samples. Use `zero_division` parameter to control this behavior.\n",
      "  _warn_prf(average, modifier, msg_start, len(result))\n"
     ]
    }
   ],
   "source": [
    "lr_model = LogisticRegression(max_iter=200)\n",
    "lr_model.fit(X_train_tfidf, y_train)\n",
    "\n",
    "# Predict and evaluate\n",
    "y_pred_lr = lr_model.predict(X_test_tfidf)\n",
    "print(\"Logistic Regression Accuracy:\", accuracy_score(y_test, y_pred_lr))\n",
    "print(\"Logistic Regression Classification Report:\\n\", classification_report(y_test, y_pred_lr))"
   ]
  },
  {
   "cell_type": "code",
   "execution_count": null,
   "id": "86c47bd9",
   "metadata": {},
   "outputs": [],
   "source": [
    "svm_model = SVC(kernel='linear')\n",
    "svm_model.fit(X_train_tfidf, y_train)\n",
    "\n",
    "# Predict and evaluate\n",
    "y_pred_svm = svm_model.predict(X_test_tfidf)\n",
    "print(\"SVM Accuracy:\", accuracy_score(y_test, y_pred_svm))\n",
    "print(\"SVM Classification Report:\\n\", classification_report(y_test, y_pred_svm))"
   ]
  },
  {
   "cell_type": "code",
   "execution_count": null,
   "id": "2c5bfb78",
   "metadata": {},
   "outputs": [],
   "source": [
    "def generate_word_cloud(data, genre):\n",
    "    text = ' '.join(data[data['GENRE'] == genre]['DESCRIPTION'])\n",
    "    wordcloud = WordCloud(width=800, height=400, background_color='white').generate(text)\n",
    "    plt.figure(figsize=(10, 5))\n",
    "    plt.imshow(wordcloud, interpolation='bilinear')\n",
    "    plt.axis('off')\n",
    "    plt.title(f'Word Cloud for Genre: {genre}')\n",
    "    plt.show()\n",
    "\n",
    "# Get unique genres\n",
    "unique_genres = data_train['GENRE'].unique()\n",
    "\n",
    "# Generate word clouds for each genre\n",
    "for genre in unique_genres:\n",
    "    generate_word_cloud(data_train, genre)"
   ]
  },
  {
   "cell_type": "code",
   "execution_count": null,
   "id": "97c2dc75",
   "metadata": {},
   "outputs": [],
   "source": []
  },
  {
   "cell_type": "code",
   "execution_count": null,
   "id": "deaf3b85",
   "metadata": {},
   "outputs": [],
   "source": []
  },
  {
   "cell_type": "code",
   "execution_count": null,
   "id": "b4237880",
   "metadata": {},
   "outputs": [],
   "source": []
  },
  {
   "cell_type": "code",
   "execution_count": null,
   "id": "ed8c037b",
   "metadata": {},
   "outputs": [],
   "source": []
  }
 ],
 "metadata": {
  "kernelspec": {
   "display_name": "Python 3",
   "language": "python",
   "name": "python3"
  },
  "language_info": {
   "codemirror_mode": {
    "name": "ipython",
    "version": 3
   },
   "file_extension": ".py",
   "mimetype": "text/x-python",
   "name": "python",
   "nbconvert_exporter": "python",
   "pygments_lexer": "ipython3",
   "version": "3.8.8"
  }
 },
 "nbformat": 4,
 "nbformat_minor": 5
}
